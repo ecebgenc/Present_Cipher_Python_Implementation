{
  "nbformat": 4,
  "nbformat_minor": 0,
  "metadata": {
    "colab": {
      "provenance": []
    },
    "kernelspec": {
      "name": "python3",
      "display_name": "Python 3"
    },
    "language_info": {
      "name": "python"
    }
  },
  "cells": [
    {
      "cell_type": "code",
      "execution_count": null,
      "metadata": {
        "id": "x2KSHz4ROrua"
      },
      "outputs": [],
      "source": [
        "# Present_Cipher_Python_Implementation - HW_2\n",
        "# Ece_Beren_GENC\n",
        "# e265087\n",
        "\n",
        "round_keys = [0 for x in range(32)]\n",
        "\n",
        "sbox = [0xC, 0x5, 0x6, 0xB, 0x9, 0x0, 0xA, 0xD, 0x3, 0xE, 0xF, 0x8, 0x4, 0x7, 0x1, 0x2]\n",
        "\n",
        "permutation_box = [0, 16, 32, 48, 1, 17, 33, 49, 2, 18, 34, 50, 3, 19, 35, 51,\n",
        "        4, 20, 36, 52, 5, 21, 37, 53, 6, 22, 38, 54, 7, 23, 39, 55, 8, 24, 40, \n",
        "        56, 9, 25, 41, 57, 10, 26, 42, 58, 11, 27, 43, 59, 12, 28, 44, 60, 13, \n",
        "        29, 45, 61, 14, 30, 46, 62, 15, 31, 47, 63]\n",
        "\n",
        "def substution_layer(state):\n",
        "  sbox_state = 0\n",
        "  for i in range(16):\n",
        "    sbox_state |= sbox[(state >> 4 * i) & 0xF] << (4 * i)\n",
        "  return sbox_state\n",
        "\n",
        "\n",
        "def permutation_layer(state):\n",
        "  permutation_state = 0\n",
        "  for i in range(64):\n",
        "    permutation_state |= ((state >> i) & 0x1) << permutation_box[i]\n",
        "  return permutation_state\n",
        "\n",
        "\n",
        "def generate_round_keys(key_high, key_low):\n",
        "  for i in range(32):\n",
        "    round_keys[i] = key_high\n",
        "    print('Round Key ' + str(i + 1) + ': ' + dec_to_hex_str(round_keys[i]))\n",
        "\n",
        "    temp_low = key_low\n",
        "    key_low = (key_high >> 3) & 0xFFFF\n",
        "    key_high = (key_high << 61) | (temp_low << 45) | (key_high >> 19)\n",
        "\n",
        "    temp_high = key_high\n",
        "    key_high = (sbox[(temp_high >> 60) & 0xf] << 60)\n",
        "    key_high |= (temp_high & 0x0FFFFFFFFFFFFFFF)\n",
        "\n",
        "    low_counter = (i + 1) & 0x1F\n",
        "    key_high ^= low_counter >> 1\n",
        "    key_low ^= (low_counter & 0x1) << 15\n",
        "\n",
        "\n",
        "def add_round_key(state, round_key):\n",
        "  return state ^ round_key\n",
        "\n",
        "\n",
        "def encryption(plain_text, key):\n",
        "  print('Plaintext: ' + plain_text)\n",
        "  print('Key: ' + key)\n",
        "\n",
        "  key_high = key[:64]  # key: 64bits\n",
        "  key_low = key[16:]  # key: 16bits\n",
        "\n",
        "  cipher_text = 0\n",
        "  state = int(plain_text, 16)        \n",
        "  key_high = int(key_high, 16)\n",
        "  key_low = int(key_low, 16)\n",
        "\n",
        "  generate_round_keys(key_high, key_low)\n",
        "\n",
        "  for i in range(31):\n",
        "    state = add_round_key(state, round_keys[i])\n",
        "    state = substution_layer(state)\n",
        "    state = permutation_layer(state)\n",
        "  cipher_text = add_round_key(state, round_keys[31])\n",
        "  print('Ciphertext: ' + dec_to_hex_str(cipher_text))\n",
        "\n",
        "\n",
        "def dec_to_hex_str(decimal):\n",
        "  hexadecimal_string = hex(decimal)[2:]\n",
        "  for i in range(16 - len(hex(decimal)[2:])):\n",
        "    hexadecimal_string = '0' + hexadecimal_string\n",
        "  return hexadecimal_string\n",
        "\n"
      ]
    },
    {
      "cell_type": "code",
      "source": [
        "# Text_Vectors\n",
        "# Plaintext: 0000000000000000\n",
        "# Key: 00000000000000000000 (80-bit)\n",
        "\n",
        "encryption(\"0000000000000000\", \"00000000000000000000\")"
      ],
      "metadata": {
        "colab": {
          "base_uri": "https://localhost:8080/"
        },
        "id": "hoy9QA5rHlHm",
        "outputId": "ac787fb1-718f-4960-e334-b9af2e9a7e0d"
      },
      "execution_count": null,
      "outputs": [
        {
          "output_type": "stream",
          "name": "stdout",
          "text": [
            "Plaintext: 0000000000000000\n",
            "Key: 00000000000000000000\n",
            "Round Key 1: 0000000000000000\n",
            "Round Key 2: c000000000000000\n",
            "Round Key 3: 5000180000000001\n",
            "Round Key 4: 60000a0003000001\n",
            "Round Key 5: b0000c0001400062\n",
            "Round Key 6: 900016000180002a\n",
            "Round Key 7: 0001920002c00033\n",
            "Round Key 8: a000a0003240005b\n",
            "Round Key 9: d000d4001400064c\n",
            "Round Key 10: 30017a001a800284\n",
            "Round Key 11: e01926002f400355\n",
            "Round Key 12: f00a1c0324c005ed\n",
            "Round Key 13: 800d5e014380649e\n",
            "Round Key 14: 4017b001abc02876\n",
            "Round Key 15: 71926802f600357f\n",
            "Round Key 16: 10a1ce324d005ec7\n",
            "Round Key 17: 20d5e21439c649a8\n",
            "Round Key 18: c17b041abc428730\n",
            "Round Key 19: c926b82f60835781\n",
            "Round Key 20: 6a1cd924d705ec19\n",
            "Round Key 21: bd5e0d439b249aea\n",
            "Round Key 22: 07b077abc1a8736e\n",
            "Round Key 23: 426ba0f60ef5783e\n",
            "Round Key 24: 41cda84d741ec1d5\n",
            "Round Key 25: f5e0e839b509ae8f\n",
            "Round Key 26: 2b075ebc1d0736ad\n",
            "Round Key 27: 86ba2560ebd783ad\n",
            "Round Key 28: 8cdab0d744ac1d77\n",
            "Round Key 29: 1e0eb19b561ae89b\n",
            "Round Key 30: d075c3c1d6336acd\n",
            "Round Key 31: 8ba27a0eb8783ac9\n",
            "Round Key 32: 6dab31744f41d700\n",
            "Ciphertext: 5579c1387b228445\n"
          ]
        }
      ]
    }
  ]
}